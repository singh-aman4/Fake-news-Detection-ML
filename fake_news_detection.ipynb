{
 "cells": [
  {
   "cell_type": "code",
   "execution_count": 4,
   "id": "13bc2d56-95e2-425b-81a6-1c5d260f58b4",
   "metadata": {},
   "outputs": [
    {
     "data": {
      "text/html": [
       "<div>\n",
       "<style scoped>\n",
       "    .dataframe tbody tr th:only-of-type {\n",
       "        vertical-align: middle;\n",
       "    }\n",
       "\n",
       "    .dataframe tbody tr th {\n",
       "        vertical-align: top;\n",
       "    }\n",
       "\n",
       "    .dataframe thead th {\n",
       "        text-align: right;\n",
       "    }\n",
       "</style>\n",
       "<table border=\"1\" class=\"dataframe\">\n",
       "  <thead>\n",
       "    <tr style=\"text-align: right;\">\n",
       "      <th></th>\n",
       "      <th>title</th>\n",
       "      <th>text</th>\n",
       "      <th>subject</th>\n",
       "      <th>date</th>\n",
       "      <th>label</th>\n",
       "    </tr>\n",
       "  </thead>\n",
       "  <tbody>\n",
       "    <tr>\n",
       "      <th>0</th>\n",
       "      <td>How parents of adopted children foiled a U.S. ...</td>\n",
       "      <td>(Refiles Nov. 30 story to cut extraneous word...</td>\n",
       "      <td>politicsNews</td>\n",
       "      <td>November 30, 2017</td>\n",
       "      <td>1</td>\n",
       "    </tr>\n",
       "    <tr>\n",
       "      <th>1</th>\n",
       "      <td>Senator Who Has Accomplished Nothing Is Very ...</td>\n",
       "      <td>Mitch McConnell is not a happy man. That s pro...</td>\n",
       "      <td>News</td>\n",
       "      <td>August 8, 2017</td>\n",
       "      <td>0</td>\n",
       "    </tr>\n",
       "    <tr>\n",
       "      <th>2</th>\n",
       "      <td>BOOM! HARVARD BUSINESS STUDENTS Debate NY Inma...</td>\n",
       "      <td>New bumper sticker idea:  My inmate is smarter...</td>\n",
       "      <td>politics</td>\n",
       "      <td>Oct 7, 2015</td>\n",
       "      <td>0</td>\n",
       "    </tr>\n",
       "    <tr>\n",
       "      <th>3</th>\n",
       "      <td>California legislature passes climate change b...</td>\n",
       "      <td>SAN FRANCISCO (Reuters) - California lawmakers...</td>\n",
       "      <td>politicsNews</td>\n",
       "      <td>August 24, 2016</td>\n",
       "      <td>1</td>\n",
       "    </tr>\n",
       "    <tr>\n",
       "      <th>4</th>\n",
       "      <td>U.S., Mexico nearing deal on sugar: Mexico's G...</td>\n",
       "      <td>WASHINGTON (Reuters) - The United States and M...</td>\n",
       "      <td>politicsNews</td>\n",
       "      <td>June 6, 2017</td>\n",
       "      <td>1</td>\n",
       "    </tr>\n",
       "  </tbody>\n",
       "</table>\n",
       "</div>"
      ],
      "text/plain": [
       "                                               title  \\\n",
       "0  How parents of adopted children foiled a U.S. ...   \n",
       "1   Senator Who Has Accomplished Nothing Is Very ...   \n",
       "2  BOOM! HARVARD BUSINESS STUDENTS Debate NY Inma...   \n",
       "3  California legislature passes climate change b...   \n",
       "4  U.S., Mexico nearing deal on sugar: Mexico's G...   \n",
       "\n",
       "                                                text       subject  \\\n",
       "0   (Refiles Nov. 30 story to cut extraneous word...  politicsNews   \n",
       "1  Mitch McConnell is not a happy man. That s pro...          News   \n",
       "2  New bumper sticker idea:  My inmate is smarter...      politics   \n",
       "3  SAN FRANCISCO (Reuters) - California lawmakers...  politicsNews   \n",
       "4  WASHINGTON (Reuters) - The United States and M...  politicsNews   \n",
       "\n",
       "                 date  label  \n",
       "0  November 30, 2017       1  \n",
       "1      August 8, 2017      0  \n",
       "2         Oct 7, 2015      0  \n",
       "3    August 24, 2016       1  \n",
       "4       June 6, 2017       1  "
      ]
     },
     "execution_count": 4,
     "metadata": {},
     "output_type": "execute_result"
    }
   ],
   "source": [
    "import pandas as pd\n",
    "\n",
    "# Load dataset\n",
    "df_fake = pd.read_csv('Fake.csv')\n",
    "df_true = pd.read_csv('True.csv')\n",
    "\n",
    "\n",
    "df_fake['label'] = 0  # Fake\n",
    "df_true['label'] = 1  # Real\n",
    "\n",
    "# Combining and shuffling\n",
    "df = pd.concat([df_fake, df_true])\n",
    "df = df.sample(frac=1).reset_index(drop=True)\n",
    "\n",
    "df.head()"
   ]
  },
  {
   "cell_type": "code",
   "execution_count": 7,
   "id": "6e1d9840-9463-419a-abda-da7b6ac91ea9",
   "metadata": {},
   "outputs": [
    {
     "name": "stderr",
     "output_type": "stream",
     "text": [
      "[nltk_data] Downloading package stopwords to /Users/aman/nltk_data...\n",
      "[nltk_data]   Package stopwords is already up-to-date!\n"
     ]
    }
   ],
   "source": [
    "import nltk\n",
    "from nltk.corpus import stopwords\n",
    "from nltk.stem.porter import PorterStemmer\n",
    "import string\n",
    "\n",
    "nltk.download('stopwords')\n",
    "\n",
    "stop_words = set(stopwords.words('english'))\n",
    "stemmer = PorterStemmer()\n",
    "\n",
    "def clean_text(text):\n",
    "    text = text.lower()\n",
    "    text = ''.join([c for c in text if c not in string.punctuation])\n",
    "    words = text.split()\n",
    "    words = [stemmer.stem(w) for w in words if w not in stop_words]\n",
    "    return ' '.join(words)\n",
    "\n",
    "df['text'] = df['text'].apply(clean_text)"
   ]
  },
  {
   "cell_type": "code",
   "execution_count": 8,
   "id": "2f170463-80e7-4531-ba04-cdf02ebff16b",
   "metadata": {},
   "outputs": [],
   "source": [
    "from sklearn.feature_extraction.text import TfidfVectorizer\n",
    "\n",
    "tfidf = TfidfVectorizer(max_features=5000)\n",
    "X = tfidf.fit_transform(df['text']).toarray()\n",
    "y = df['label']"
   ]
  },
  {
   "cell_type": "code",
   "execution_count": 9,
   "id": "a2de4fe5-2c05-4ce0-8d5f-601d4e4b0220",
   "metadata": {},
   "outputs": [],
   "source": [
    "from sklearn.model_selection import train_test_split\n",
    "\n",
    "X_train, X_test, y_train, y_test = train_test_split(X, y, test_size=0.2, random_state=42)"
   ]
  },
  {
   "cell_type": "code",
   "execution_count": 23,
   "id": "891c1457-555c-4ebd-b765-b02151f974b8",
   "metadata": {},
   "outputs": [],
   "source": [
    "from sklearn.linear_model import LogisticRegression\n",
    "from sklearn.tree import DecisionTreeClassifier\n",
    "from sklearn.ensemble import RandomForestClassifier\n",
    "from sklearn.svm import SVC\n",
    "from sklearn.metrics import accuracy_score\n",
    "\n",
    "# Create models\n",
    "log_model = LogisticRegression()\n",
    "tree_model = DecisionTreeClassifier()\n",
    "forest_model = RandomForestClassifier()\n",
    "svm_model = SVC(kernel='linear')\n",
    "\n"
   ]
  },
  {
   "cell_type": "code",
   "execution_count": 27,
   "id": "c6478eb5-8c68-4cf3-b67f-364c054f0646",
   "metadata": {},
   "outputs": [
    {
     "name": "stdout",
     "output_type": "stream",
     "text": [
      "Logistic Regression Accuracy: 0.9898663697104677\n",
      "Decision Tree Accuracy: 0.9955456570155902\n",
      "Random Forest Accuracy: 0.9984409799554566\n",
      "SVM Accuracy: 0.9938752783964365\n"
     ]
    }
   ],
   "source": [
    "log_model.fit(X_train, y_train)\n",
    "tree_model.fit(X_train, y_train)\n",
    "forest_model.fit(X_train, y_train)\n",
    "svm_model.fit(X_train, y_train)\n",
    "\n",
    "# Test and print accuracy\n",
    "print(\"Logistic Regression Accuracy:\", accuracy_score(y_test, log_model.predict(X_test)))\n",
    "print(\"Decision Tree Accuracy:\", accuracy_score(y_test, tree_model.predict(X_test)))\n",
    "print(\"Random Forest Accuracy:\", accuracy_score(y_test, forest_model.predict(X_test)))\n",
    "print(\"SVM Accuracy:\", accuracy_score(y_test, svm_model.predict(X_test)))"
   ]
  },
  {
   "cell_type": "code",
   "execution_count": 28,
   "id": "9a0ea8ce-a4f4-4be8-8a92-be60191a94eb",
   "metadata": {},
   "outputs": [
    {
     "data": {
      "image/png": "[encoded data removed]",
      "text/plain": [
       "<Figure size 500x400 with 2 Axes>"
      ]
     },
     "metadata": {},
     "output_type": "display_data"
    }
   ],
   "source": [
    "import seaborn as sns\n",
    "import matplotlib.pyplot as plt\n",
    "from sklearn.metrics import confusion_matrix\n",
    "\n",
    "\n",
    "y_pred = log_model.predict(X_test)\n",
    "\n",
    "\n",
    "cm = confusion_matrix(y_test, y_pred)\n",
    "\n",
    "\n",
    "plt.figure(figsize=(5,4))\n",
    "sns.heatmap(cm, annot=True, fmt='d', cmap='Blues', xticklabels=['Fake', 'Real'], yticklabels=['Fake', 'Real'])\n",
    "plt.xlabel('Predicted')\n",
    "plt.ylabel('Actual')\n",
    "plt.title('Confusion Matrix - Logistic Regression')\n",
    "plt.show()"
   ]
  },
  {
   "cell_type": "code",
   "execution_count": 29,
   "id": "4c8ffa3a-991c-4878-a365-9d028d6fd9fa",
   "metadata": {},
   "outputs": [],
   "source": [
    "def manual_testing(news, model, vectorizer):\n",
    "    cleaned = clean_text(news)\n",
    "    \n",
    "    # Vectorize the input using the same TF-IDF vectorizer\n",
    "    vectorized = vectorizer.transform([cleaned])  # Note: input must be in list\n",
    "    \n",
    "    # Predict\n",
    "    prediction = model.predict(vectorized)\n",
    "    \n",
    "\n",
    "    print(\"Prediction:\", \"REAL News 📰\" if prediction[0] == 1 else \"FAKE News 🚨\")"
   ]
  },
  {
   "cell_type": "code",
   "execution_count": 67,
   "id": "31077776-a9b4-4638-8bc4-d8d936311605",
   "metadata": {},
   "outputs": [
    {
     "name": "stdout",
     "output_type": "stream",
     "text": [
      "Prediction: REAL News 📰\n"
     ]
    }
   ],
   "source": [
    "news_sample = 'WASHINGTON (Reuters) - Alabama Secretary of State John Merrill said he will certify Democratic Senator-elect Doug Jones as winner on Thursday despite opponent Roy Moore’s challenge, in a phone call on CNN. Moore, a conservative who had faced allegations of groping teenage girls when he was in his 30s, filed a court challenge late on Wednesday to the outcome of a U.S. Senate election he unexpectedly lost. '\n",
    "manual_testing(news_sample, log_model, tfidf)"
   ]
  },
  {
   "cell_type": "code",
   "execution_count": 65,
   "id": "ad260580-df1d-4beb-b55f-b3af621adc1e",
   "metadata": {},
   "outputs": [
    {
     "name": "stdout",
     "output_type": "stream",
     "text": [
      "Prediction: FAKE News 🚨\n"
     ]
    }
   ],
   "source": [
    "news_sample = 'GENEVA – The World Health Organization WHO has officially declared beginning to the global COVID-19 public health emergency, ten years after the virus first emerged and upended life around the globe. The announcement came on Monday following a meeting of the International Health Regulations Emergency Committee, which concluded that the virus poses a global threat requiring emergency-level coordination. WHO Director-General Dr. Tedros Adhanom Ghebreyesus said the decision was made based on a sustained decline in hospitalizations and deaths, widespread population immunity from vaccines and past infections, and improved surveillance systems. This does not mean COVID-19 is over as a global health threat, he emphasized. It means it is no longer an extraordinary event. The move is expected to trigger changes in how countries report COVID-19 cases and allocate funding for pandemic response efforts. Some health experts have cautioned against reducing vigilance, warning that new variants could still pose localized threats. The US Centers for Disease Control and Prevention CDC announced it would continue to monitor emerging variants but would wind down some of its pandemic-era programs including daily case tracking. Public response has been mixed. Some welcomed the decision as a step toward normalcy while others expressed concern that the virus might resurge without strict monitoring. Global vaccination efforts have slowed in recent months with several countries repurposing vaccine production capacity toward other diseases. WHO officials urged nations not to become complacent, calling for continued investment in health infrastructure. The COVID-19 pandemic has officially claimed over 7 million lives according to WHO estimates though the actual toll may be higher due to underreporting in some regions.'\n",
    "manual_testing(news_sample, log_model, tfidf)"
   ]
  }
 ],
 "metadata": {
  "kernelspec": {
   "display_name": "Python [conda env:base] *",
   "language": "python",
   "name": "conda-base-py"
  },
  "language_info": {
   "codemirror_mode": {
    "name": "ipython",
    "version": 3
   },
   "file_extension": ".py",
   "mimetype": "text/x-python",
   "name": "python",
   "nbconvert_exporter": "python",
   "pygments_lexer": "ipython3",
   "version": "3.12.7"
  }
 },
 "nbformat": 4,
 "nbformat_minor": 5
}
